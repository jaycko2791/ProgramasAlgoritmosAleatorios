{
 "cells": [
  {
   "cell_type": "markdown",
   "metadata": {},
   "source": [
    "## Alumno : Jorge Diego Garcia Torres\n",
    "## Prof. Dr. Ricardo Menchaca Méndez\n",
    "\n",
    "## Tarea : Random Graph (Erdos-Renyi )"
   ]
  },
  {
   "cell_type": "code",
   "execution_count": 1,
   "metadata": {},
   "outputs": [],
   "source": [
    "import random\n",
    "import numpy\n",
    "from numpy import linspace\n",
    "import matplotlib.pyplot as plt"
   ]
  },
  {
   "cell_type": "markdown",
   "metadata": {},
   "source": [
    "### Funciones\n",
    "- Crear Nodo\n",
    "- Contruir RandomGraph\n",
    "- dfs\n",
    "- "
   ]
  },
  {
   "cell_type": "code",
   "execution_count": 56,
   "metadata": {},
   "outputs": [
    {
     "name": "stdout",
     "output_type": "stream",
     "text": [
      "[0, 1, 2, 3, 4, 5, 6, 7, 8, 9, 10, 11, 12, 13, 14, 15, 16, 17, 18, 19, 20, 21, 22, 23, 24, 25, 26, 27, 28, 29, 30, 31, 32, 33, 34, 35, 36, 37, 38, 39, 40, 41, 42, 43, 44, 45, 46, 47, 48, 49, 50, 51, 52, 53, 54, 55, 56, 57, 58, 59, 60, 61, 62, 63, 64, 65, 66, 67, 68, 69, 70, 71, 72, 73, 74, 75, 76, 77, 78, 79, 80, 81, 82, 83, 84, 85, 86, 87, 88, 89, 90, 91, 92, 93, 94, 95, 96, 97, 98, 99]\n",
      "vecinos\n",
      "[0, 3, 4, 5, 6, 7, 8, 10, 13, 15, 16, 18, 22, 23, 24, 25, 26, 27, 28, 30, 31, 32, 33, 35, 36, 37, 38, 42, 45, 46, 48, 49, 51, 52, 55, 56, 57, 61, 62, 65, 69, 71, 74, 75, 76, 78, 81, 83, 84, 85, 88, 89, 90, 91, 92, 94, 95]\n",
      "visited\n",
      "{29, 30, 31, 32, 33, 34, 35, 36, 37, 38, 39, 40, 41, 42, 43, 44, 45, 46, 47, 48, 49, 50, 51, 52, 53, 54, 55, 56, 57, 58, 59, 60, 61, 62, 63, 64, 65, 66, 67, 68, 69, 70, 71, 72, 73, 74, 75, 1, 76, 77, 78, 79, 80, 81, 82, 83, 84, 85, 86, 87, 88, 89, 90, 91, 92, 93, 94, 95, 96, 97, 98, 99, 2, 3, 4, 9, 5, 6, 7, 8, 10, 11, 12, 13, 14, 15, 16, 17, 18, 19, 20, 21, 22, 23, 24, 0, 25, 26, 27, 28}\n",
      "size of component\n",
      "100\n"
     ]
    }
   ],
   "source": [
    "\n",
    "n = 100\n",
    "p = .6\n",
    "\n",
    "class Node:\n",
    "   def __init__(self, index):\n",
    "      self.index = index\n",
    "      self.neighbors = []\n",
    "\n",
    "   def __repr__(self):\n",
    "      return repr(self.index)\n",
    "    \n",
    "\n",
    "def randomGraph(n,p):\n",
    "   vertices = [Node(i) for i in range(n)]\n",
    "   edges = [(i,j) for i in range(n) for j in range(i) if np.random.rand() < p]\n",
    "\n",
    "   for (i,j) in edges:\n",
    "      vertices[i].neighbors.append(vertices[j])\n",
    "      vertices[j].neighbors.append(vertices[i])\n",
    "\n",
    "   return vertices\n",
    "\n",
    "\n",
    "def dfsComponent(node, visited):\n",
    "   for v in node.neighbors:\n",
    "      if v not in visited:\n",
    "         visited.add(v)\n",
    "         dfsComponent(v, visited)\n",
    "            \n",
    "\n",
    "G = randomGraph(n,p)\n",
    "print(G)\n",
    "\n",
    "print('vecinos')\n",
    "print(G[1].neighbors)\n",
    "\n",
    "\n",
    "componentVisited = set([G[0]])\n",
    "dfsComponent(G[0], componentVisited)\n",
    "\n",
    "print('visited')\n",
    "print(componentVisited)\n",
    "\n",
    "print(\"size of component\")\n",
    "print(len(componentVisited))\n",
    "\n",
    "            \n"
   ]
  },
  {
   "cell_type": "markdown",
   "metadata": {},
   "source": [
    "## Generar grafos de tamaño n = [10, 100, 1000, 3000] y con constante c = [-5,5] \n",
    "## donde p = logn/n + c/n"
   ]
  },
  {
   "cell_type": "code",
   "execution_count": 92,
   "metadata": {},
   "outputs": [
    {
     "name": "stdout",
     "output_type": "stream",
     "text": [
      "[-5.         -3.88888889 -2.77777778 -1.66666667 -0.55555556  0.55555556\n",
      "  1.66666667  2.77777778  3.88888889  5.        ]\n",
      "[[0.0, 0.0, 0.0, 0.0, 0.3, 0.4, 0.8, 1.0, 1.0, 1.0], [0.0, 0.0, 0.0, 0.1, 0.2, 0.5, 0.7, 0.8, 1.0, 1.0], [0.0, 0.0, 0.0, 0.0, 0.0, 0.5, 0.8, 0.9, 1.0, 1.0], [0.0, 0.0, 0.0, 0.0, 0.1, 0.4, 0.8, 1.0, 1.0, 1.0]]\n"
     ]
    }
   ],
   "source": [
    "import numpy as np\n",
    "nlist = [10,100,1000,3000]\n",
    "c = np.linspace(-5,5,10)\n",
    "\n",
    "print(c)\n",
    "\n",
    "gresult = []\n",
    "\n",
    "for i in nlist:\n",
    "    rlist = []\n",
    "    for j in c:\n",
    "        con = 0\n",
    "        p = ((np.log(i))/i) + (j/i)\n",
    "        for k in range(10):\n",
    "            G = randomGraph(i,p)\n",
    "            componentVisited = set([G[0]])\n",
    "            dfsComponent(G[0], componentVisited)\n",
    "            if len(componentVisited) == i:\n",
    "                con = con+1\n",
    "            componentVisited = set()\n",
    "\n",
    "        result = con/10\n",
    "        rlist.append(result)\n",
    "    \n",
    "    gresult.append(rlist)\n",
    "\n",
    "print(gresult)\n",
    "        "
   ]
  },
  {
   "cell_type": "markdown",
   "metadata": {},
   "source": [
    "# Graficando Resultados"
   ]
  },
  {
   "cell_type": "code",
   "execution_count": 95,
   "metadata": {},
   "outputs": [
    {
     "data": {
      "image/png": "[encoded data removed]",
      "text/plain": [
       "<Figure size 432x288 with 1 Axes>"
      ]
     },
     "metadata": {
      "needs_background": "light"
     },
     "output_type": "display_data"
    }
   ],
   "source": [
    "plt.plot(c,gresult[3],'x-',label='3000')\n",
    "plt.plot(c,gresult[2],'x-',label='1000')\n",
    "plt.plot(c,gresult[1],'x-',label='100')\n",
    "plt.plot(c,gresult[0],'x-',label='10')\n",
    "plt.legend()\n",
    "plt.show()"
   ]
  },
  {
   "cell_type": "code",
   "execution_count": 55,
   "metadata": {},
   "outputs": [
    {
     "name": "stdout",
     "output_type": "stream",
     "text": [
      "0.1328069315836189\n"
     ]
    }
   ],
   "source": [
    "print(np.random.rand())"
   ]
  },
  {
   "cell_type": "markdown",
   "metadata": {},
   "source": [
    "# Utilizando libreria networkx "
   ]
  },
  {
   "cell_type": "code",
   "execution_count": 69,
   "metadata": {},
   "outputs": [
    {
     "name": "stdout",
     "output_type": "stream",
     "text": [
      "[0, 1, 2, 3, 4, 5]\n",
      "[(1, 5), (2, 4)]\n"
     ]
    }
   ],
   "source": [
    "from networkx.generators.random_graphs import erdos_renyi_graph\n",
    "\n",
    "n = 6\n",
    "p = 0.1\n",
    "g = erdos_renyi_graph(n, p)\n",
    "\n",
    "print(g.nodes)\n",
    "# [0, 1, 2, 3, 4, 5]\n",
    " \n",
    "print(g.edges)\n",
    "# [(0, 1), (0, 2), (0, 4), (1, 2), (1, 5), (3, 4), (4, 5)]"
   ]
  },
  {
   "cell_type": "code",
   "execution_count": 70,
   "metadata": {},
   "outputs": [
    {
     "data": {
      "image/png": "[encoded data removed]",
      "text/plain": [
       "<Figure size 432x288 with 1 Axes>"
      ]
     },
     "metadata": {},
     "output_type": "display_data"
    },
    {
     "name": "stdout",
     "output_type": "stream",
     "text": [
      "[0]\n"
     ]
    },
    {
     "data": {
      "image/png": "[encoded data removed]",
      "text/plain": [
       "<Figure size 432x288 with 1 Axes>"
      ]
     },
     "metadata": {},
     "output_type": "display_data"
    }
   ],
   "source": [
    "import networkx as nx\n",
    "\n",
    "nx.draw(g)  \n",
    "plt.show()\n",
    "\n",
    "T=nx.dfs_tree(g, source=0)\n",
    "print(T.nodes)\n",
    "\n",
    "nx.draw(T)  \n",
    "plt.show()"
   ]
  },
  {
   "cell_type": "code",
   "execution_count": 86,
   "metadata": {},
   "outputs": [
    {
     "name": "stdout",
     "output_type": "stream",
     "text": [
      "[-5.         -3.88888889 -2.77777778 -1.66666667 -0.55555556  0.55555556\n",
      "  1.66666667  2.77777778  3.88888889  5.        ]\n",
      "[[0.0, 0.0, 0.0, 0.0, 0.1, 0.6, 0.9, 1.0, 1.0, 1.0], [0.0, 0.0, 0.0, 0.0, 0.2, 0.5, 0.8, 0.9, 1.0, 1.0], [0.0, 0.0, 0.0, 0.0, 0.2, 0.6, 0.7, 1.0, 1.0, 1.0], [0.0, 0.0, 0.0, 0.0, 0.3, 0.4, 0.6, 1.0, 1.0, 1.0]]\n"
     ]
    }
   ],
   "source": [
    "import numpy as np\n",
    "nlist = [10,100,1000,3000]\n",
    "c = np.linspace(-5,5,10)\n",
    "\n",
    "print(c)\n",
    "\n",
    "gresult = []\n",
    "\n",
    "for i in nlist:\n",
    "    rlist = []\n",
    "    for j in c:\n",
    "        con = 0\n",
    "        p = ((np.log(i))/i) + (j/i)\n",
    "        for k in range(10):\n",
    "            G = g = erdos_renyi_graph(i, p)\n",
    "            T= nx.dfs_tree(g, source=0)\n",
    "            #dfsComponent(G[0], componentVisited)\n",
    "            if len(T.nodes) == i:\n",
    "                con = con+1\n",
    "            #componentVisited = set()\n",
    "\n",
    "        result = con/10\n",
    "        rlist.append(result)\n",
    "    \n",
    "    gresult.append(rlist)\n",
    "\n",
    "print(gresult)"
   ]
  },
  {
   "cell_type": "markdown",
   "metadata": {},
   "source": [
    "# RESULTADOS"
   ]
  },
  {
   "cell_type": "code",
   "execution_count": 90,
   "metadata": {},
   "outputs": [
    {
     "data": {
      "image/png": "[encoded data removed]",
      "text/plain": [
       "<Figure size 432x288 with 1 Axes>"
      ]
     },
     "metadata": {
      "needs_background": "light"
     },
     "output_type": "display_data"
    }
   ],
   "source": [
    "plt.plot(c,gresult[3],'x-',label='3000')\n",
    "plt.plot(c,gresult[2],'x-',label='1000')\n",
    "plt.plot(c,gresult[1],'x-',label='100')\n",
    "plt.plot(c,gresult[0],'x-',label='10')\n",
    "plt.legend()\n",
    "plt.show()"
   ]
  }
 ],
 "metadata": {
  "kernelspec": {
   "display_name": "Python 3",
   "language": "python",
   "name": "python3"
  },
  "language_info": {
   "codemirror_mode": {
    "name": "ipython",
    "version": 3
   },
   "file_extension": ".py",
   "mimetype": "text/x-python",
   "name": "python",
   "nbconvert_exporter": "python",
   "pygments_lexer": "ipython3",
   "version": "3.7.4"
  }
 },
 "nbformat": 4,
 "nbformat_minor": 2
}
