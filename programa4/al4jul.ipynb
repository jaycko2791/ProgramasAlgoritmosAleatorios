{
 "cells": [
  {
   "cell_type": "code",
   "execution_count": 98,
   "metadata": {},
   "outputs": [
    {
     "data": {
      "text/plain": [
       "findmedian (generic function with 1 method)"
      ]
     },
     "execution_count": 98,
     "metadata": {},
     "output_type": "execute_result"
    }
   ],
   "source": [
    "using Random\n",
    "using Distributions\n",
    "\n",
    "function findmedian(a)\n",
    "    sizea = length(a)\n",
    "    sizea2 = sizea^(3/4)\n",
    "    sizeR = ceil(sizea2)\n",
    "    R = zeros(0)\n",
    "    i = 0\n",
    "    while i < sizeR\n",
    "        append!(R, a[rand(1:end)])   \n",
    "        i = i + 1\n",
    "    end\n",
    "    R = sort(R)\n",
    "    d = R[Int(floor((1/2*sizea2)-sqrt(sizea)))]\n",
    "    u = R[Int(ceil((1/2*sizea2)+sqrt(sizea)))]\n",
    "    Ld = zeros(0)\n",
    "    Lu = zeros(0)\n",
    "    C = zeros(0)\n",
    "    \n",
    "    #print(d)\n",
    "    #print(u)\n",
    "    \n",
    "    for i in a\n",
    "        if i>u\n",
    "            append!(Lu,i)\n",
    "        elseif i<d\n",
    "            append!(Ld,i)\n",
    "        elseif i >= d && i <= u\n",
    "            append!(C, i)\n",
    "        end\n",
    "    end\n",
    "    \n",
    "    sizeLd = length(Ld)\n",
    "    sizeLu = length(Lu) \n",
    "    mediana = 0\n",
    "    #print(Ld)\n",
    "    #print(Lu)\n",
    "    #print(C)\n",
    "    \n",
    "    if sizeLd > (sizea/2) || sizeLu > (sizea/2)\n",
    "        print(\"fallaste\")\n",
    "    elseif length(C) <= 4*(sizea2)\n",
    "        C = sort(C)\n",
    "        mediana = C[Int(floor(sizea/2)- sizeLd +1)]\n",
    "        print(mediana)\n",
    "    else\n",
    "        print(\"fallaste\")\n",
    "    end\n",
    "    \n",
    "    return mediana\n",
    "end\n",
    "\n",
    "function rselect(a,k)\n",
    "    if length(a)<=1:\n",
    "        return(a[1])\n",
    "    \n",
    "    menp = zeros(0)\n",
    "    mayp = zeros(0)\n",
    "    p = a[rand(1:end)]\n",
    "    \n",
    "    for i in a:\n",
    "        if i > p:\n",
    "            \n",
    "            mayp.append(i)\n",
    "            #myp = np.array(mayp)\n",
    "            #myp.sort()\n",
    "            \n",
    "        elif i < p:\n",
    "            menp.append(i)\n",
    "            #mnp = np.array(menp)\n",
    "            #mnp.sort()\n",
    "    \n",
    "end\n",
    "    \n"
   ]
  },
  {
   "cell_type": "code",
   "execution_count": 101,
   "metadata": {},
   "outputs": [
    {
     "name": "stdout",
     "output_type": "stream",
     "text": [
      "[763, 362, 593, 108, 940, 365, 946, 690, 300, 720, 265, 347, 931, 133, 38, 325, 850, 574, 555, 566, 687, 176, 332, 107, 82, 136, 587, 47, 533, 823, 908, 844, 641, 167, 576, 247, 197, 794, 544, 971, 199, 202, 367, 189, 103, 263, 406, 986, 807, 657, 565, 697, 708, 243, 442, 676, 49, 323, 647, 194, 717, 895, 999, 977, 341, 171, 307, 399, 831, 872, 728, 518, 660, 887, 338, 882, 28, 102, 311, 579, 464, 795, 689, 888, 132, 319, 44, 337, 349, 270, 295, 180, 598, 353, 838, 530, 713, 506, 742, 942, 679, 125, 900, 380, 585, 279, 830, 8, 456, 320, 357, 101, 575, 721, 972, 232, 186, 616, 124, 55, 345, 982, 463, 815, 14, 168, 17, 762, 410, 271, 633, 883, 273, 637, 856, 515, 707, 840, 825, 414, 23, 557, 750, 437, 318, 459, 669, 603, 445, 21, 678, 352, 932, 767, 308, 453, 898, 618, 113, 486, 714, 139, 251, 92, 122, 30, 625, 211, 645, 106, 653, 740, 529, 412, 901, 682, 760, 848, 978, 581, 839, 16, 310, 752, 643, 76, 991, 834, 797, 503, 146, 444, 692, 939, 358, 428, 452, 768, 976, 316, 267, 52, 684, 765, 667, 411, 254, 467, 665, 330, 213, 638, 521, 334, 100, 37, 614, 482, 43, 951, 151, 549, 955, 478, 706, 90, 227, 61, 40, 269, 487, 85, 157, 343, 474, 864, 858, 907, 773, 715, 233, 547, 878, 650, 661, 354, 438, 613, 403, 735, 225, 276, 956, 468, 952, 536, 668, 88, 624, 688, 469, 484, 418, 274, 897, 811, 161, 371, 447, 832, 50, 335, 918, 853, 722, 804, 26, 866, 796, 317, 672, 589, 169, 56, 10, 578, 426, 859, 595, 499, 385, 127, 934, 520, 433, 941, 874, 813, 277, 430, 231, 331, 394, 539, 591, 156, 921, 954, 80, 568, 949, 303, 321, 42, 777, 562, 821, 152, 389, 449, 563, 272, 556, 873, 191, 785, 429, 48, 709, 756, 814, 434, 805, 5, 741, 881, 505, 432, 206, 34, 620, 945, 259, 475, 190, 374, 610, 784, 861, 753, 537, 196, 131, 24, 627, 287, 150, 577, 110, 836, 755, 725, 252, 995, 493, 508, 351, 360, 696, 607, 511, 828, 649, 781, 996, 1, 498, 849, 223, 567, 564, 913, 698, 339, 857, 172, 57, 869, 671, 826, 817, 91, 702, 393, 235, 153, 948, 542, 382, 965, 984, 886, 143, 658, 491, 140, 219, 212, 743, 580, 94, 313, 228, 121, 217, 234, 851, 457, 540, 524, 739, 246, 448, 961, 182, 516, 472, 381, 283, 792, 355, 384, 369, 509, 663, 920, 7, 368, 879, 776, 517, 342, 97, 222, 550, 500, 719, 36, 646, 867, 771, 147, 128, 244, 546, 787, 268, 604, 391, 496, 990, 214, 987, 446, 454, 816, 348, 229, 523, 700, 553, 441, 218, 608, 766, 63, 793, 981, 905, 193, 812, 258, 264, 779, 465, 312, 695, 751, 198, 534, 630, 953, 326, 909, 736, 654, 495, 436, 359, 405, 522, 386, 507, 615, 923, 809, 871, 494, 601, 685, 64, 387, 606, 997, 759, 880, 104, 112, 285, 863, 68, 841, 417, 216, 290, 261, 41, 109, 846, 548, 65, 69, 159, 460, 173, 119, 531, 490, 944, 9, 148, 166, 662, 144, 962, 969, 200, 461, 876, 609, 788, 992, 46, 340, 249, 733, 680, 19, 370, 644, 891, 304, 221, 612, 215, 590, 115, 510, 195, 481, 395, 571, 239, 929, 906, 791, 738, 632, 397, 29, 502, 12, 893, 526, 545, 120, 673, 488, 22, 138, 11, 504, 924, 729, 605, 552, 256, 651, 919, 928, 473, 847, 551, 937, 301, 466, 802, 704, 364, 681, 757, 892, 950, 889, 761, 799, 483, 450, 81, 675, 98, 142, 383, 60, 912, 413, 248, 78, 572, 27, 979, 699, 416, 683, 296, 674, 703, 746, 764, 135, 914, 477, 910, 402, 87, 758, 155, 890, 59, 302, 376, 241, 177, 344, 378, 67, 305, 178, 782, 659, 242, 711, 558, 800, 594, 333, 485, 656, 670, 75, 798, 710, 917, 105, 737, 993, 207, 35, 192, 980, 408, 238, 86, 868, 70, 451, 560, 538, 652, 281, 315, 775, 375, 45, 492, 734, 298, 174, 930, 208, 845, 407, 293, 600, 915, 922, 599, 748, 480, 543, 935, 970, 224, 693, 126, 250, 701, 994, 130, 294, 749, 15, 943, 6, 185, 933, 361, 286, 409, 141, 145, 388, 716, 58, 541, 975, 20, 470, 379, 440, 201, 62, 18, 636, 573, 622, 904, 111, 988, 655, 998, 425, 938, 626, 584, 419, 829, 894, 582, 967, 916, 423, 390, 780, 957, 422, 833, 95, 611, 783, 597, 559, 160, 960, 772, 123, 292, 911, 31, 634, 561, 843, 519, 801, 306, 51, 642, 93, 623, 497, 96, 745, 366, 236, 896, 188, 116, 723, 770, 532, 936, 179, 686, 377, 181, 396, 852, 39, 278, 255, 164, 885, 162, 77, 89, 462, 769, 855, 903, 226, 71, 724, 827, 154, 631, 260, 350, 220, 947, 266, 870, 489, 262, 837, 925, 583, 415, 854, 13, 297, 731, 74, 170, 806, 862, 535, 808, 810, 973, 329, 346, 175, 114, 184, 163, 958, 527, 718, 134, 435, 4, 439, 705, 32, 187, 726, 964, 732, 284, 471, 336, 570, 617, 629, 1000, 2, 392, 373, 525, 835, 959, 53, 400, 754, 479, 968, 927, 240, 73, 819, 66, 356, 635, 3, 621, 129, 727, 985, 253, 257, 790, 404, 974, 842, 747, 398, 33, 884, 424, 712, 83, 803, 205, 443, 602, 774, 245, 209, 420, 401, 282, 569, 824, 865, 963, 619, 875, 902, 183, 666, 203, 820, 421, 79, 309, 299, 554, 427, 789, 72, 458, 288, 204, 291, 528, 513, 327, 648, 158, 476, 118, 860, 640, 230, 137, 54, 512, 628, 786, 778, 314, 322, 818, 822, 677, 117, 501, 165, 431, 210, 280, 966, 455, 275, 926, 514, 730, 149, 744, 289, 328, 691, 25, 596, 99, 694, 877, 363, 324, 586, 592, 899, 84, 989, 983, 639, 372, 588, 664, 237]\n",
      "1000"
     ]
    }
   ],
   "source": [
    "n = 1000\n",
    "lst = collect(1:n)\n",
    "rng = MersenneTwister(1234)\n",
    "nwlst =shuffle(rng,lst)\n",
    "print(nwlst)\n",
    "print(\"\\n\")\n",
    "print(length(nwlst))"
   ]
  },
  {
   "cell_type": "code",
   "execution_count": 102,
   "metadata": {},
   "outputs": [
    {
     "name": "stdout",
     "output_type": "stream",
     "text": [
      "501.0"
     ]
    },
    {
     "data": {
      "text/plain": [
       "501.0"
      ]
     },
     "execution_count": 102,
     "metadata": {},
     "output_type": "execute_result"
    }
   ],
   "source": [
    "findmedian(nwlst)"
   ]
  },
  {
   "cell_type": "code",
   "execution_count": 80,
   "metadata": {},
   "outputs": [
    {
     "data": {
      "text/plain": [
       "32.0"
      ]
     },
     "execution_count": 80,
     "metadata": {},
     "output_type": "execute_result"
    }
   ],
   "source": [
    "sizea = length(nwlst)\n",
    "ceil(sizea^(3/4))"
   ]
  },
  {
   "cell_type": "code",
   "execution_count": 81,
   "metadata": {},
   "outputs": [
    {
     "name": "stdout",
     "output_type": "stream",
     "text": [
      "Float64[]"
     ]
    }
   ],
   "source": [
    "P1 = zeros(0)\n",
    "print(P1)"
   ]
  },
  {
   "cell_type": "code",
   "execution_count": 82,
   "metadata": {},
   "outputs": [
    {
     "ename": "ArgumentError",
     "evalue": "ArgumentError: invalid index: 5.0 of type Float64",
     "output_type": "error",
     "traceback": [
      "ArgumentError: invalid index: 5.0 of type Float64",
      "",
      "Stacktrace:",
      " [1] to_index(::Float64) at ./indices.jl:273",
      " [2] to_index(::Array{Float64,1}, ::Float64) at ./indices.jl:250",
      " [3] to_indices at ./indices.jl:301 [inlined]",
      " [4] to_indices at ./indices.jl:298 [inlined]",
      " [5] getindex at ./abstractarray.jl:981 [inlined]",
      " [6] findmedian(::Array{Int64,1}) at ./In[78]:15",
      " [7] top-level scope at In[82]:1"
     ]
    }
   ],
   "source": [
    "print(length(findmedian(nwlst)))"
   ]
  },
  {
   "cell_type": "code",
   "execution_count": 89,
   "metadata": {},
   "outputs": [
    {
     "ename": "ArgumentError",
     "evalue": "ArgumentError: invalid index: 5.0 of type Float64",
     "output_type": "error",
     "traceback": [
      "ArgumentError: invalid index: 5.0 of type Float64",
      "",
      "Stacktrace:",
      " [1] to_index(::Float64) at ./indices.jl:273",
      " [2] to_index(::Array{Float64,1}, ::Float64) at ./indices.jl:250",
      " [3] to_indices at ./indices.jl:301 [inlined]",
      " [4] to_indices at ./indices.jl:298 [inlined]",
      " [5] getindex at ./abstractarray.jl:981 [inlined]",
      " [6] findmedian(::Array{Int64,1}) at ./In[88]:15",
      " [7] top-level scope at In[89]:1"
     ]
    }
   ],
   "source": [
    "A = findmedian(nwlst)\n",
    "print(A)"
   ]
  },
  {
   "cell_type": "code",
   "execution_count": 106,
   "metadata": {},
   "outputs": [
    {
     "name": "stdout",
     "output_type": "stream",
     "text": [
      "3.0"
     ]
    }
   ],
   "source": [
    "\n",
    "print(A[1])"
   ]
  },
  {
   "cell_type": "code",
   "execution_count": 104,
   "metadata": {},
   "outputs": [
    {
     "name": "stdout",
     "output_type": "stream",
     "text": [
      "[3.0, 3.0, 4.0, 5.0, 5.0, 8.0, 10.0, 12.0, 14.0, 19.0, 20.0, 26.0, 30.0, 32.0, 34.0, 36.0, 41.0, 44.0, 45.0, 46.0, 46.0, 47.0, 49.0, 55.0, 64.0, 72.0, 74.0, 74.0, 77.0, 86.0, 88.0, 95.0]"
     ]
    }
   ],
   "source": [
    "print(A)"
   ]
  },
  {
   "cell_type": "code",
   "execution_count": 46,
   "metadata": {},
   "outputs": [
    {
     "data": {
      "text/plain": [
       "2.0"
      ]
     },
     "execution_count": 46,
     "metadata": {},
     "output_type": "execute_result"
    }
   ],
   "source": [
    "sqrt(4)"
   ]
  },
  {
   "cell_type": "code",
   "execution_count": 94,
   "metadata": {},
   "outputs": [
    {
     "data": {
      "text/plain": [
       "4"
      ]
     },
     "execution_count": 94,
     "metadata": {},
     "output_type": "execute_result"
    }
   ],
   "source": [
    "Int(4.0)"
   ]
  },
  {
   "cell_type": "code",
   "execution_count": null,
   "metadata": {},
   "outputs": [],
   "source": []
  }
 ],
 "metadata": {
  "kernelspec": {
   "display_name": "Julia 1.3.1",
   "language": "julia",
   "name": "julia-1.3"
  },
  "language_info": {
   "file_extension": ".jl",
   "mimetype": "application/julia",
   "name": "julia",
   "version": "1.3.1"
  }
 },
 "nbformat": 4,
 "nbformat_minor": 2
}
