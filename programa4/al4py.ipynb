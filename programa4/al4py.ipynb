{
 "cells": [
  {
   "cell_type": "code",
   "execution_count": 18,
   "metadata": {},
   "outputs": [
    {
     "name": "stdout",
     "output_type": "stream",
     "text": [
      "mediana\n",
      "502\n",
      "resultados con algoritmo o(nlogn)\n",
      "mediana\n",
      "501\n"
     ]
    }
   ],
   "source": [
    "import numpy as np\n",
    "import math\n",
    "\n",
    "def findmedian1(a):\n",
    "    n= len(a)\n",
    "    sizeR = math.ceil(n**(3/4))\n",
    "    #print(sizeR)\n",
    "    R = []\n",
    "    i = 0\n",
    "    while i < sizeR:\n",
    "        i = i+1\n",
    "        R.append(np.random.choice(a))\n",
    "    \n",
    "    #print('tamaño R')\n",
    "    #print(len(R))\n",
    "    \n",
    "    Ra = np.array(R)\n",
    "    Ra.sort()\n",
    "    d =  Ra[math.floor(1/2*(n**(3/4)) - math.sqrt(n))+1]\n",
    "    u =  Ra[math.ceil(1/2*(n**(3/4)) + math.sqrt(n))+1]\n",
    "    Ld = []\n",
    "    Lu = []\n",
    "    C = []\n",
    "    \n",
    "    for i in a:\n",
    "        if i > u:\n",
    "            Lu.append(i)\n",
    "        elif i < d:\n",
    "            Ld.append(i)\n",
    "        elif i>= d and i<= u:\n",
    "            C.append(i)\n",
    "    \n",
    "    if len(Ld)>n/2 or len(Lu)>n/2:\n",
    "        print(\"fallaste\")\n",
    "    elif len(C) <= 4*(n**(3/4)):\n",
    "        Ca = np.array(C)\n",
    "        Ca.sort()\n",
    "        mediana=Ca[math.floor(n/2) - len(Ld) +2]\n",
    "        print('mediana')\n",
    "        print(mediana)   \n",
    "    else: \n",
    "        print(\"fallaste\")\n",
    "        \n",
    "def findmedian2(a,k):\n",
    "    #print('vector')\n",
    "    #print(a)\n",
    "    #print(len(a))\n",
    "    \n",
    "    if len(a)<=1:\n",
    "        #print('mediana')\n",
    "        #print(a[0])\n",
    "        return a\n",
    "    \n",
    "    #print('k-select')\n",
    "    #print(k)\n",
    "    \n",
    "    menp = []\n",
    "    mayp = []\n",
    "    p = np.random.choice(a)\n",
    "    #print('pivote')\n",
    "    #print(p)\n",
    "    \n",
    "    for i in a:\n",
    "        if i > p:\n",
    "            mayp.append(i)\n",
    "            #myp = np.array(mayp)\n",
    "            #myp.sort()\n",
    "            \n",
    "        elif i < p:\n",
    "            menp.append(i)\n",
    "            #mnp = np.array(menp)\n",
    "            #mnp.sort()\n",
    "            \n",
    "    #print('size menp')\n",
    "    #print( len(menp))\n",
    "    if len(menp)>k:\n",
    "        return findmedian2(np.array(menp),k)\n",
    "    \n",
    "    #elif len(menp)< k+1:\n",
    "    elif len(menp)< k:\n",
    "        return findmedian2(np.array(mayp),k-len(menp)-1)\n",
    "    \n",
    "    elif len(menp) == 0 or len(menp) == k : \n",
    "        #print('mediana')\n",
    "        #print(p)\n",
    "        return p\n",
    "\n",
    "    \n",
    "b = list(range(0, 1000))\n",
    "ba=np.array(b)\n",
    "np.random.shuffle(ba)\n",
    "\n",
    "findmedian1(b)\n",
    "\n",
    "print('resultados con algoritmo o(nlogn)')    \n",
    "b.sort()\n",
    "#print('arreglo ordenado')\n",
    "#print(b)\n",
    "print('mediana')\n",
    "print(b[math.ceil(len(b)/2)+1])"
   ]
  },
  {
   "cell_type": "code",
   "execution_count": 19,
   "metadata": {},
   "outputs": [
    {
     "name": "stdout",
     "output_type": "stream",
     "text": [
      "1000\n",
      "mediana\n",
      "502\n",
      "500\n"
     ]
    }
   ],
   "source": [
    "c = list(range(0, 1000))\n",
    "ca=np.array(c)\n",
    "np.random.shuffle(ca)\n",
    "\n",
    "print(len(ca))\n",
    "\n",
    "findmedian1(ca) \n",
    "\n",
    "\n",
    "mediann=findmedian2(ca,math.ceil(len(ca)/2))\n",
    "\n",
    "print(mediann)\n"
   ]
  },
  {
   "cell_type": "code",
   "execution_count": 20,
   "metadata": {},
   "outputs": [
    {
     "name": "stdout",
     "output_type": "stream",
     "text": [
      "500\n"
     ]
    }
   ],
   "source": [
    "print(mediann)"
   ]
  },
  {
   "cell_type": "code",
   "execution_count": 29,
   "metadata": {},
   "outputs": [],
   "source": [
    "import time\n",
    "\n",
    "\n",
    "k = list(range(5,10000))\n",
    "\n",
    "result = []\n",
    "for i in k:\n",
    "    test = list(range(1,i))\n",
    "    testa = np.array(test)\n",
    "    np.random.shuffle(testa)\n",
    "    start_time = time.time()\n",
    "    r = findmedian2(testa,math.ceil(len(testa)/2))\n",
    "    res = time.time() - start_time\n",
    "    result.append(res)\n",
    "    "
   ]
  },
  {
   "cell_type": "code",
   "execution_count": null,
   "metadata": {},
   "outputs": [],
   "source": [
    "print(result)"
   ]
  },
  {
   "cell_type": "code",
   "execution_count": 30,
   "metadata": {},
   "outputs": [
    {
     "data": {
      "image/png": "[encoded data removed]",
      "text/plain": [
       "<Figure size 432x288 with 1 Axes>"
      ]
     },
     "metadata": {
      "needs_background": "light"
     },
     "output_type": "display_data"
    }
   ],
   "source": [
    "import matplotlib.pyplot as plt\n",
    "\n",
    "plt.plot(k,result,color= 'r',label ='10^1',marker=\"o\")\n",
    "plt.legend()\n",
    "plt.xlabel(\"C\")\n",
    "plt.ylabel(\"p probabilidad\")\n",
    "plt.title(\"P(x<= nlogn + cn)\")\n",
    "plt.show()"
   ]
  },
  {
   "cell_type": "code",
   "execution_count": null,
   "metadata": {},
   "outputs": [],
   "source": []
  }
 ],
 "metadata": {
  "kernelspec": {
   "display_name": "Python 3",
   "language": "python",
   "name": "python3"
  },
  "language_info": {
   "codemirror_mode": {
    "name": "ipython",
    "version": 3
   },
   "file_extension": ".py",
   "mimetype": "text/x-python",
   "name": "python",
   "nbconvert_exporter": "python",
   "pygments_lexer": "ipython3",
   "version": "3.7.4"
  }
 },
 "nbformat": 4,
 "nbformat_minor": 2
}
