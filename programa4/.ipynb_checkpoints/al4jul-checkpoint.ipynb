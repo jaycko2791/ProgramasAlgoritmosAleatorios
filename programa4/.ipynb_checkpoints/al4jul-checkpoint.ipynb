{
 "cells": [
  {
   "cell_type": "code",
   "execution_count": 69,
   "metadata": {},
   "outputs": [
    {
     "ename": "LoadError",
     "evalue": "syntax: invalid character literal",
     "output_type": "error",
     "traceback": [
      "syntax: invalid character literal",
      ""
     ]
    }
   ],
   "source": [
    "using Random\n",
    "using Distributions\n",
    "\n",
    "function findmedian(a)\n",
    "    sizea = length(a)\n",
    "    sizea2 = sizea^(3/4)\n",
    "    sizeR = ceil(sizea2)\n",
    "    R = zeros(0)\n",
    "    i = 0\n",
    "    while i < sizeR\n",
    "        append!(R, a[rand(1:end)])   \n",
    "        i = i + 1\n",
    "    end\n",
    "    R = sort(R)\n",
    "    d = R[floor((1/2*sizea2)-sqrt(sizea))]\n",
    "    u = R[ceil((1/2*sizea2)+sqrt(sizea))]\n",
    "    Ld = zeros(0)\n",
    "    Lu = zeros(0)\n",
    "    C = zeros(0)\n",
    "    \n",
    "    for i in a\n",
    "        if i>u\n",
    "            append!(Lu,i)\n",
    "        elseif i<d\n",
    "            append!(Ld,i)\n",
    "        elseif i >= d && i <= u\n",
    "            append!(C, i)\n",
    "        end\n",
    "    end\n",
    "    \n",
    "    sizeLd = length(Ld)\n",
    "    sizeLu = length(Lu) \n",
    "    \n",
    "    if length(Ld)> (sizea/2) || length(Lu) > (sizea/2)\n",
    "        print('fallaste')\n",
    "    #elseif length(C) <= 4*(sizea2)\n",
    "    #    C = sort(C)\n",
    "    #    mediana = C[floor(sizea/2)-length(Ld)+1 ]\n",
    "    else\n",
    "        print('fallaste')\n",
    "    end\n",
    "    \n",
    "    return mediana\n",
    "end\n",
    "    \n"
   ]
  },
  {
   "cell_type": "code",
   "execution_count": 28,
   "metadata": {},
   "outputs": [
    {
     "name": "stdout",
     "output_type": "stream",
     "text": [
      "[40, 88, 59, 94, 79, 7, 67, 62, 34, 27, 57, 61, 52, 29, 5, 31, 64, 92, 90, 4, 89, 38, 39, 23, 95, 65, 22, 20, 55, 60, 97, 14, 45, 98, 28, 82, 63, 13, 44, 48, 46, 36, 17, 49, 86, 78, 69, 6, 26, 11, 99, 15, 53, 56, 42, 43, 85, 73, 41, 81, 32, 12, 35, 16, 1, 8, 83, 9, 75, 18, 10, 58, 66, 50, 91, 77, 37, 47, 100, 70, 71, 19, 30, 2, 21, 33, 72, 51, 25, 96, 54, 68, 74, 80, 3, 84, 93, 87, 76, 24]\n",
      "100"
     ]
    }
   ],
   "source": [
    "n = 100\n",
    "lst = collect(1:n)\n",
    "rng = MersenneTwister(1234)\n",
    "nwlst =shuffle(rng,lst)\n",
    "print(nwlst)\n",
    "print(\"\\n\")\n",
    "print(length(nwlst))"
   ]
  },
  {
   "cell_type": "code",
   "execution_count": 58,
   "metadata": {},
   "outputs": [
    {
     "data": {
      "text/plain": [
       "32.0"
      ]
     },
     "execution_count": 58,
     "metadata": {},
     "output_type": "execute_result"
    }
   ],
   "source": [
    "sizea = length(nwlst)\n",
    "ceil(sizea^(3/4))"
   ]
  },
  {
   "cell_type": "code",
   "execution_count": 30,
   "metadata": {},
   "outputs": [
    {
     "name": "stdout",
     "output_type": "stream",
     "text": [
      "Float64[]"
     ]
    }
   ],
   "source": [
    "P1 = zeros(0)\n",
    "print(P1)"
   ]
  },
  {
   "cell_type": "code",
   "execution_count": 59,
   "metadata": {},
   "outputs": [
    {
     "ename": "ArgumentError",
     "evalue": "ArgumentError: invalid index: 5.0 of type Float64",
     "output_type": "error",
     "traceback": [
      "ArgumentError: invalid index: 5.0 of type Float64",
      "",
      "Stacktrace:",
      " [1] to_index(::Float64) at ./indices.jl:273",
      " [2] to_index(::Array{Float64,1}, ::Float64) at ./indices.jl:250",
      " [3] to_indices at ./indices.jl:301 [inlined]",
      " [4] to_indices at ./indices.jl:298 [inlined]",
      " [5] getindex at ./abstractarray.jl:981 [inlined]",
      " [6] findmedian(::Array{Int64,1}) at ./In[54]:15",
      " [7] top-level scope at In[59]:1"
     ]
    }
   ],
   "source": [
    "print(length(findmedian(nwlst)))"
   ]
  },
  {
   "cell_type": "code",
   "execution_count": 39,
   "metadata": {},
   "outputs": [
    {
     "name": "stdout",
     "output_type": "stream",
     "text": [
      "[1.0, 12.0, 13.0, 19.0, 24.0, 25.0, 32.0, 32.0, 34.0, 41.0, 43.0, 44.0, 44.0, 47.0, 47.0, 50.0, 53.0, 56.0, 58.0, 60.0, 64.0, 71.0, 72.0, 76.0, 77.0, 85.0, 88.0, 91.0, 92.0, 93.0, 97.0, 98.0]"
     ]
    }
   ],
   "source": [
    "A = findmedian(nwlst)\n",
    "print(findmedian(nwlst))"
   ]
  },
  {
   "cell_type": "code",
   "execution_count": 44,
   "metadata": {},
   "outputs": [
    {
     "name": "stdout",
     "output_type": "stream",
     "text": [
      "3.0"
     ]
    }
   ],
   "source": [
    "\n",
    "print(A[1])"
   ]
  },
  {
   "cell_type": "code",
   "execution_count": 45,
   "metadata": {},
   "outputs": [
    {
     "name": "stdout",
     "output_type": "stream",
     "text": [
      "[3.0, 3.0, 4.0, 5.0, 5.0, 8.0, 10.0, 12.0, 14.0, 19.0, 20.0, 26.0, 30.0, 32.0, 34.0, 36.0, 41.0, 44.0, 45.0, 46.0, 46.0, 47.0, 49.0, 55.0, 64.0, 72.0, 74.0, 74.0, 77.0, 86.0, 88.0, 95.0]"
     ]
    }
   ],
   "source": [
    "print(A)"
   ]
  },
  {
   "cell_type": "code",
   "execution_count": 46,
   "metadata": {},
   "outputs": [
    {
     "data": {
      "text/plain": [
       "2.0"
      ]
     },
     "execution_count": 46,
     "metadata": {},
     "output_type": "execute_result"
    }
   ],
   "source": [
    "sqrt(4)"
   ]
  },
  {
   "cell_type": "code",
   "execution_count": null,
   "metadata": {},
   "outputs": [],
   "source": []
  }
 ],
 "metadata": {
  "kernelspec": {
   "display_name": "Julia 1.3.1",
   "language": "julia",
   "name": "julia-1.3"
  },
  "language_info": {
   "file_extension": ".jl",
   "mimetype": "application/julia",
   "name": "julia",
   "version": "1.3.1"
  }
 },
 "nbformat": 4,
 "nbformat_minor": 2
}
