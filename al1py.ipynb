{
 "cells": [
  {
   "cell_type": "markdown",
   "metadata": {},
   "source": [
    "## Verificacion de igualdad entre polinomios con diferentes formas\n",
    "\n",
    "### Instrucciones\n",
    "- copiar la informacion en text(3).txt\n",
    "- Ejemplo de entrada:\n",
    "\n",
    "48.84 0.86 -15.64 -0.5 1\n",
    "\n",
    "-2.0 3.0 2.2 -3.7\n",
    "\n",
    "Que representa: \n",
    "\n",
    "$48.84 + 0.86x -15.64x^2 -0.5x^3 + x^4$\n",
    "\n",
    "$(x-2)(x+3)(x+2.2)(x-3.7)$\n",
    "\n",
    "otro ejemplo\n",
    "\n",
    "1693440 4078368 3576936 1399900 186290 -34041 -13587 -1050 120 23 1\n",
    "\n",
    "1 2 3 4 5 6 7 8 -7 -6\n",
    "\n",
    "Alumno : Jorge Diego Garcia Torres\n",
    "\n",
    "\n"
   ]
  },
  {
   "cell_type": "code",
   "execution_count": 219,
   "metadata": {
    "colab": {
     "base_uri": "https://localhost:8080/",
     "height": 119
    },
    "colab_type": "code",
    "id": "aTieTG0JyneZ",
    "outputId": "6cfb8f2a-240f-4aee-f997-d55b60e1fed1"
   },
   "outputs": [
    {
     "name": "stdout",
     "output_type": "stream",
     "text": [
      "235\n",
      "1.0\n",
      "es el mismo polinomio\n",
      "758\n",
      "1.0000000000000002\n",
      "es el mismo polinomio\n",
      "248\n",
      "1.0000000000000002\n",
      "es el mismo polinomio\n",
      "74\n",
      "1.0\n",
      "es el mismo polinomio\n",
      "243\n",
      "1.0000000000000002\n",
      "es el mismo polinomio\n",
      "76\n",
      "1.0\n",
      "es el mismo polinomio\n",
      "790\n",
      "1.0\n",
      "es el mismo polinomio\n",
      "780\n",
      "1.0000000000000002\n",
      "es el mismo polinomio\n",
      "620\n",
      "1.0000000000000002\n",
      "es el mismo polinomio\n"
     ]
    }
   ],
   "source": [
    "import random\n",
    "import numpy as np\n",
    "import math \n",
    "\n",
    "f = open('text(3).txt',\"r\")\n",
    "\n",
    "line1 = f.readline()\n",
    "line2 = f.readline()\n",
    "\n",
    "x = line1.split(\" \")\n",
    "y = line2.split(\" \")\n",
    "d = len(x)-1\n",
    "\n",
    "lst =list(range(1, 100*(d)+1))\n",
    "\n",
    "#num1 = np.random.randint(1,100*(d)+1)\n",
    "#num = random.choice(lst)\n",
    "\n",
    "p1 = 0\n",
    "p2 = 1\n",
    "\n",
    "def calculatep1(x1,num):\n",
    "    p1 = 0\n",
    "    num = float(num)\n",
    "    for i in range(len(x1)):\n",
    "        p1 = p1 + float(x1[i])*(num**i)\n",
    "    return p1\n",
    "\n",
    "def calculatep2(y1,num):\n",
    "    p2 = 1\n",
    "    for j in range(len(y1)):\n",
    "        p2 = p2*(num + float(y1[j]))\n",
    "    return p2\n",
    "\n",
    "for k in range(d-1):\n",
    "  #num1 = np.random.randint(1,100*(d)+1)\n",
    "  num1 = np.random.choice(lst)\n",
    "  print(num1)\n",
    "  lst.remove(num1)\n",
    "  #print(num1)\n",
    "  px=calculatep1(x,num1)\n",
    "  py=calculatep2(y,num1)\n",
    "  print(px/py)\n",
    "  if math.isclose(px/py,1,rel_tol=0.05)== True:\n",
    "    print('es el mismo polinomio')\n",
    " \n",
    "  else:\n",
    "    print('no es el mismo polinomio')\n",
    "    break\n"
   ]
  },
  {
   "cell_type": "code",
   "execution_count": 217,
   "metadata": {},
   "outputs": [
    {
     "data": {
      "text/plain": [
       "True"
      ]
     },
     "execution_count": 217,
     "metadata": {},
     "output_type": "execute_result"
    }
   ],
   "source": [
    "4.884*(10**-13) == 4.884e-13"
   ]
  },
  {
   "cell_type": "code",
   "execution_count": 201,
   "metadata": {},
   "outputs": [
    {
     "data": {
      "text/plain": [
       "4.884e-13"
      ]
     },
     "execution_count": 201,
     "metadata": {},
     "output_type": "execute_result"
    }
   ],
   "source": [
    "4.884e-13"
   ]
  },
  {
   "cell_type": "code",
   "execution_count": null,
   "metadata": {},
   "outputs": [],
   "source": []
  }
 ],
 "metadata": {
  "colab": {
   "name": "al1py.ipynb",
   "provenance": [],
   "toc_visible": true
  },
  "kernelspec": {
   "display_name": "Python 3",
   "language": "python",
   "name": "python3"
  },
  "language_info": {
   "codemirror_mode": {
    "name": "ipython",
    "version": 3
   },
   "file_extension": ".py",
   "mimetype": "text/x-python",
   "name": "python",
   "nbconvert_exporter": "python",
   "pygments_lexer": "ipython3",
   "version": "3.7.4"
  }
 },
 "nbformat": 4,
 "nbformat_minor": 1
}
