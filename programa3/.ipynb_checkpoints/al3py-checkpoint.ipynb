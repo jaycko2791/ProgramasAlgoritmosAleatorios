{
 "cells": [
  {
   "cell_type": "markdown",
   "metadata": {},
   "source": [
    "## Problema del coleccionador de cupones 2\n",
    "\n",
    "\n",
    "\n",
    "\n",
    "Alumno : Jorge Diego Garcia Torres\n"
   ]
  },
  {
   "cell_type": "code",
   "execution_count": 1,
   "metadata": {},
   "outputs": [
    {
     "name": "stdout",
     "output_type": "stream",
     "text": [
      "intentos para alcanzar la coleccion\n",
      "607\n",
      "lista de la coleccion\n",
      "[1, 2, 3, 4, 5, 6, 7, 8, 9, 10, 11, 12, 13, 14, 15, 16, 17, 18, 19, 20, 21, 22, 23, 24, 25, 26, 27, 28, 29, 30, 31, 32, 33, 34, 35, 36, 37, 38, 39, 40, 41, 42, 43, 44, 45, 46, 47, 48, 49, 50, 51, 52, 53, 54, 55, 56, 57, 58, 59, 60, 61, 62, 63, 64, 65, 66, 67, 68, 69, 70, 71, 72, 73, 74, 75, 76, 77, 78, 79, 80, 81, 82, 83, 84, 85, 86, 87, 88, 89, 90, 91, 92, 93, 94, 95, 96, 97, 98, 99, 100]\n",
      "numero de cupones a coleccionar\n",
      "100\n",
      "como obtuve la coleccion\n",
      "{67: True, 68: True, 15: True, 38: True, 85: True, 47: True, 9: True, 14: True, 8: True, 82: True, 2: True, 3: True, 88: True, 7: True, 30: True, 45: True, 80: True, 37: True, 22: True, 26: True, 23: True, 70: True, 10: True, 97: True, 96: True, 60: True, 77: True, 29: True, 58: True, 1: True, 53: True, 76: True, 92: True, 98: True, 54: True, 94: True, 50: True, 69: True, 36: True, 19: True, 61: True, 39: True, 91: True, 65: True, 64: True, 48: True, 83: True, 6: True, 25: True, 87: True, 66: True, 13: True, 90: True, 46: True, 12: True, 51: True, 75: True, 84: True, 31: True, 71: True, 56: True, 18: True, 32: True, 74: True, 42: True, 33: True, 28: True, 16: True, 72: True, 62: True, 55: True, 73: True, 79: True, 35: True, 44: True, 81: True, 5: True, 40: True, 100: True, 49: True, 95: True, 99: True, 27: True, 93: True, 43: True, 78: True, 21: True, 86: True, 59: True, 57: True, 11: True, 4: True, 52: True, 20: True, 24: True, 34: True, 41: True, 17: True, 89: True, 63: True}\n"
     ]
    }
   ],
   "source": [
    "import numpy as np\n",
    "n = 100 #numero de tazos totales\n",
    "i = 0\n",
    "collection= {}\n",
    "num_cupones = 0\n",
    "while num_cupones< n:\n",
    "    i = i+1\n",
    "    cupon = np.random.choice(list(range(1, n+1)))\n",
    "    if (cupon in collection)!= True:\n",
    "        num_cupones += 1\n",
    "        collection[cupon]=True\n",
    "\n",
    "print(\"intentos para alcanzar la coleccion\")\n",
    "print(i)\n",
    "print(\"lista de la coleccion\")\n",
    "print(list(range(1, n+1)))\n",
    "print(\"numero de cupones a coleccionar\")\n",
    "print(num_cupones)\n",
    "print(\"como obtuve la coleccion\")\n",
    "print(collection)\n"
   ]
  },
  {
   "cell_type": "code",
   "execution_count": 2,
   "metadata": {},
   "outputs": [
    {
     "name": "stdout",
     "output_type": "stream",
     "text": [
      "vector con intentos hasta obtener coleccion\n",
      "[471, 603, 411, 438]\n",
      "Promedio: 480.75\n",
      "Mediana 454.5\n",
      "Minimo: 411\n",
      "Maximo: 603\n"
     ]
    }
   ],
   "source": [
    "# funcion para comparar con los valores esperados teoricos\n",
    "\n",
    "import random\n",
    "import numpy as np\n",
    "import matplotlib.pyplot as plt\n",
    "\n",
    "# variables\n",
    "cards = 100 # numero de cartas a coleccionar\n",
    "Trials = []\n",
    "\n",
    "# simulaciones\n",
    "simulations = 4 \n",
    "\n",
    "# recoleccion de tazos, numero de intentos \n",
    "def collect(cards):\n",
    "    loops = 0\n",
    "    Deck = []\n",
    "\n",
    "    while len(Deck) < cards:\n",
    "        card = random.randint(1, cards)\n",
    "        #card = np.random.choice(list(range(1, n+1)))\n",
    "        if card not in Deck:\n",
    "            Deck.append(card)\n",
    "        loops += 1\n",
    "\n",
    "    return loops\n",
    "\n",
    "# simulaciones\n",
    "for x in range(simulations):\n",
    "    Trials.append(collect(cards))\n",
    "\n",
    "print(\"vector con intentos hasta obtener coleccion\")\n",
    "print(Trials)\n",
    "\n",
    "# Algunos resultados de los intentos\n",
    "print('Promedio:', np.average(Trials))\n",
    "print('Mediana', np.median(Trials))\n",
    "print('Minimo:', min(Trials))\n",
    "print('Maximo:', max(Trials))\n"
   ]
  },
  {
   "cell_type": "code",
   "execution_count": 3,
   "metadata": {},
   "outputs": [
    {
     "name": "stdout",
     "output_type": "stream",
     "text": [
      "[-4, -3, -2, -1, 0, 1, 2, 3, 4]\n",
      "[-4.         -3.72413793 -3.44827586 -3.17241379 -2.89655172 -2.62068966\n",
      " -2.34482759 -2.06896552 -1.79310345 -1.51724138 -1.24137931 -0.96551724\n",
      " -0.68965517 -0.4137931  -0.13793103  0.13793103  0.4137931   0.68965517\n",
      "  0.96551724  1.24137931  1.51724138  1.79310345  2.06896552  2.34482759\n",
      "  2.62068966  2.89655172  3.17241379  3.44827586  3.72413793  4.        ]\n"
     ]
    }
   ],
   "source": [
    "C = [-4, -3, -2, -1, 0, 1 ,2, 3, 4]\n",
    "C1 = np.linspace(-4,4,30)\n",
    "print(C)\n",
    "print(C1)"
   ]
  },
  {
   "cell_type": "code",
   "execution_count": 4,
   "metadata": {},
   "outputs": [],
   "source": [
    "# diferentes valores de cartas que se van a coleccionar\n",
    "\n",
    "n1 = 10**1\n",
    "n2 = 10**2\n",
    "n3 = 10**3\n",
    "n4 = 10**4"
   ]
  },
  {
   "cell_type": "markdown",
   "metadata": {},
   "source": [
    "### Explicación\n",
    "\n",
    "- para cada n, con n= 10, 100,1000 y 10000 que es la coleccion de cartas, se obtienen diferentes simulaciones del colector para observar la variable X, que es hasta cuantos intentos se hicieron para obtener la coleccion completa\n",
    "\n",
    "- En un arreglo se guardan estos resultados o simulaciones y se cuentan aquellos que cumplen con $X <= nlog(n)+cn$ para diferentes valores de C, donde c esta en el rango de -4 a 4 \n",
    "\n",
    "- para obtener la probabilidad, se cuentan los valores que cumplieron con $X <= nlog(n)+cn$ y se dividen entre el total de las simulaciones \n",
    "\n",
    "nota :  para obtener los resultados se puede hacer con un solo ciclo , pero lo hice así para que se puedan observar los resultados de  n1, n2, n3, n4"
   ]
  },
  {
   "cell_type": "code",
   "execution_count": 5,
   "metadata": {},
   "outputs": [
    {
     "name": "stdout",
     "output_type": "stream",
     "text": [
      "[0.0, 0.0, 0.0, 0.0, 0.0, 0.0, 0.0, 0.0, 0.0, 0.0, 0.0, 0.015, 0.074, 0.145, 0.27, 0.402, 0.534, 0.595, 0.687, 0.76, 0.813, 0.841, 0.876, 0.901, 0.93, 0.94, 0.955, 0.965, 0.972, 0.981]\n"
     ]
    }
   ],
   "source": [
    "import numpy as np\n",
    "\n",
    "intentos = 1000 # simulaciones donde se coleccionaran n1 cartas\n",
    "atrials = [] #lista de simulaciones \n",
    "print(n1)\n",
    "\n",
    "for j in range(intentos):  # numero simulaciones\n",
    "    atrials.append(collect(10)) # lista donde se guardan simulaciones hasta obtener la coleccion n1\n",
    "\n",
    "P1 = [] # lista que cuenta la probabildad P(x <= nlog(n)+cn) donde  x es numero de intentos hasta obtener la coleccion\n",
    "#y se realiza para diferentes valores de C \n",
    "\n",
    "# lo anterior se realiza contando los x menores a  nlog(n)+cn y dividiendolo entre el total de las simulaciones o intentos\n",
    "for j in range(len(C1)):\n",
    "    c = (n1*np.log(n1) + C1[j]*n1)\n",
    "    p = sum(i <= c for i in atrials)\n",
    "    P1.append(p/len(atrials))\n",
    "    p= 0\n",
    "    \n",
    "print(P1)\n"
   ]
  },
  {
   "cell_type": "code",
   "execution_count": 6,
   "metadata": {},
   "outputs": [
    {
     "name": "stdout",
     "output_type": "stream",
     "text": [
      "[0.0, 0.0, 0.0, 0.0, 0.0, 0.0, 0.0, 0.0, 0.001, 0.006, 0.03, 0.071, 0.132, 0.219, 0.317, 0.424, 0.521, 0.623, 0.7, 0.754, 0.82, 0.877, 0.906, 0.925, 0.942, 0.956, 0.97, 0.977, 0.987, 0.99]\n"
     ]
    }
   ],
   "source": [
    "intentos = 1000 # simulaciones donde se coleccionaran n2 cartas\n",
    "atrials2 = [] #lista de simulaciones \n",
    "print(n2)\n",
    "\n",
    "for j in range(intentos): # numero simulaciones\n",
    "    atrials2.append(collect(n2)) # lista donde se guardan simulaciones hasta obtener la coleccion n1\n",
    "\n",
    "P2 = [] # lista que cuenta la probabildad P(x <= nlog(n)+cn) donde  x es numero de intentos hasta obtener la coleccion\n",
    "#y se realiza para diferentes valores de C\n",
    "\n",
    "# lo anterior se realiza contando los x menores a  nlog(n)+cn y dividiendolo entre el total de las simulaciones o intentos\n",
    "for j in range(len(C1)):\n",
    "    c = (n2*np.log(n2) + C1[j]*n2)\n",
    "    p = sum(i <= c for i in atrials2)\n",
    "    P2.append(p/len(atrials2))\n",
    "    p= 0\n",
    "    \n",
    "print(P2)"
   ]
  },
  {
   "cell_type": "code",
   "execution_count": 7,
   "metadata": {},
   "outputs": [
    {
     "name": "stdout",
     "output_type": "stream",
     "text": [
      "[0.0, 0.0, 0.0, 0.0, 0.0, 0.0, 0.0, 0.0, 0.0, 0.0, 0.0, 0.07, 0.12, 0.2, 0.23, 0.38, 0.49, 0.58, 0.66, 0.73, 0.78, 0.8, 0.85, 0.9, 0.93, 0.95, 0.97, 0.97, 0.99, 1.0]\n"
     ]
    }
   ],
   "source": [
    "intentos = 100 # simulaciones donde se coleccionaran n3 cartas\n",
    "atrials3 = [] #lista de simulaciones \n",
    "print(n3)\n",
    "\n",
    "for j in range(intentos): # numero simulaciones\n",
    "    atrials3.append(collect(n3)) # lista donde se guardan simulaciones hasta obtener la coleccion n3\n",
    "\n",
    "P3 = []  # lista que cuenta la probabildad P(x <= nlog(n)+cn) donde  x es numero de intentos hasta obtener la coleccion\n",
    "#y se realiza para diferentes valores de C\n",
    "\n",
    "# lo anterior se realiza contando los x menores a  nlog(n)+cn y dividiendolo entre el total de las simulaciones o intentos\n",
    "for j in range(len(C1)):\n",
    "    c = (n3*np.log(n3) + C1[j]*n3)\n",
    "    p = sum(i <= c for i in atrials3)\n",
    "    P3.append(p/len(atrials3))\n",
    "    p= 0\n",
    "    \n",
    "print(P3)"
   ]
  },
  {
   "cell_type": "code",
   "execution_count": 8,
   "metadata": {},
   "outputs": [
    {
     "name": "stdout",
     "output_type": "stream",
     "text": [
      "[0.0, 0.0, 0.0, 0.0, 0.0, 0.0, 0.0, 0.0, 0.0, 0.1, 0.1, 0.1, 0.1, 0.1, 0.1, 0.2, 0.5, 0.5, 0.5, 0.5, 0.7, 0.8, 0.8, 0.8, 0.9, 0.9, 0.9, 1.0, 1.0, 1.0]\n"
     ]
    }
   ],
   "source": [
    "intentos = 10 # simulaciones donde se coleccionaran n3 cartas\n",
    "atrials4 = [] #lista de simulaciones\n",
    "print(n4)\n",
    "\n",
    "for j in range(intentos): # numero simulaciones\n",
    "    atrials4.append(collect(n4)) # lista donde se guardan simulaciones hasta obtener la coleccion n4\n",
    "\n",
    "P4 = [] # lista que cuenta la probabildad P(x <= nlog(n)+cn) donde  x es numero de intentos hasta obtener la coleccion\n",
    "#y se realiza para diferentes valores de C\n",
    "\n",
    "# lo anterior se realiza contando los x menores a  nlog(n)+cn y dividiendolo entre el total de las simulaciones o intentos\n",
    "for j in range(len(C1)):\n",
    "    c = (n4*np.log(n4) + C1[j]*n4)\n",
    "    p = sum(i <= c for i in atrials4)\n",
    "    P4.append(p/len(atrials4))\n",
    "    p= 0\n",
    "    \n",
    "print(P4)\n"
   ]
  },
  {
   "cell_type": "code",
   "execution_count": 13,
   "metadata": {},
   "outputs": [
    {
     "data": {
      "text/plain": [
       "Text(0.5, 1.0, 'P(x<= nlogn + cn)')"
      ]
     },
     "execution_count": 13,
     "metadata": {},
     "output_type": "execute_result"
    },
    {
     "data": {
      "image/png": "[encoded data removed]",
      "text/plain": [
       "<Figure size 432x288 with 1 Axes>"
      ]
     },
     "metadata": {
      "needs_background": "light"
     },
     "output_type": "display_data"
    }
   ],
   "source": [
    "# Graficando resultados\n",
    "\n",
    "import matplotlib.pyplot as plt\n",
    "plt.plot(C1,P1,color= 'r',label ='10^1',marker=\"o\")\n",
    "plt.plot(C1,P2,color= 'y',label ='10^2',marker=\"o\")\n",
    "plt.plot(C1,P3,color= 'b',label ='10^3',marker=\"o\")\n",
    "plt.plot(C1,P4,color= 'c',label ='10^4',marker=\"o\")\n",
    "plt.legend()\n",
    "plt.xlabel(\"C\")\n",
    "plt.ylabel(\"p probabilidad\")\n",
    "plt.title(\"P(x<= nlogn + cn)\")"
   ]
  },
  {
   "cell_type": "code",
   "execution_count": null,
   "metadata": {},
   "outputs": [],
   "source": []
  }
 ],
 "metadata": {
  "kernelspec": {
   "display_name": "Python 3",
   "language": "python",
   "name": "python3"
  },
  "language_info": {
   "codemirror_mode": {
    "name": "ipython",
    "version": 3
   },
   "file_extension": ".py",
   "mimetype": "text/x-python",
   "name": "python",
   "nbconvert_exporter": "python",
   "pygments_lexer": "ipython3",
   "version": "3.7.4"
  }
 },
 "nbformat": 4,
 "nbformat_minor": 2
}
